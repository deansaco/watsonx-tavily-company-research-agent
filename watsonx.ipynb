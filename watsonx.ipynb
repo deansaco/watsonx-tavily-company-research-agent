{
 "cells": [
  {
   "cell_type": "code",
   "execution_count": null,
   "metadata": {},
   "outputs": [],
   "source": [
    "%pip install python-dotenv ibm-watsonx-ai --quiet"
   ]
  },
  {
   "cell_type": "code",
   "execution_count": null,
   "metadata": {},
   "outputs": [],
   "source": [
    "from dotenv import load_dotenv\n",
    "\n",
    "load_dotenv()"
   ]
  },
  {
   "cell_type": "code",
   "execution_count": 22,
   "metadata": {},
   "outputs": [],
   "source": [
    "from ibm_watsonx_ai import APIClient, Credentials\n",
    "from ibm_watsonx_ai.foundation_models import ModelInference\n",
    "import os\n",
    "credentials = Credentials(\n",
    "    url=os.getenv(\"WATSONX_URL\"),\n",
    "    api_key=os.getenv(\"WATSONX_API_KEY\"),\n",
    ")\n",
    "\n",
    "client = APIClient(credentials)"
   ]
  },
  {
   "cell_type": "code",
   "execution_count": 5,
   "metadata": {},
   "outputs": [],
   "source": [
    "# model = ModelInference(\n",
    "#   model_id=\"ibm/granite-3-8b-instruct\",\n",
    "#   api_client=client,\n",
    "#   project_id=os.getenv(\"WATSONX_PROJECT_ID\"),\n",
    "#   params = {\n",
    "#       \"max_new_tokens\": 1000\n",
    "#   }\n",
    "# )"
   ]
  },
  {
   "cell_type": "code",
   "execution_count": null,
   "metadata": {},
   "outputs": [],
   "source": [
    "model = ModelInference(\n",
    "  model_id=\"ibm/granite-3-2-8b-instruct\",\n",
    "  api_client=client,\n",
    "  project_id=os.getenv(\"WATSONX_PROJECT_ID\"),\n",
    "  params = {\n",
    "      \"max_new_tokens\": 1000\n",
    "  }\n",
    ")"
   ]
  },
  {
   "cell_type": "code",
   "execution_count": 5,
   "metadata": {},
   "outputs": [],
   "source": [
    "messages=[\n",
    "        {\n",
    "            \"role\": \"system\",\n",
    "            \"content\": f\"You are researching IBM, a company in the TECHNOLOGY industry.\"\n",
    "        },\n",
    "        {\n",
    "            \"role\": \"user\",\n",
    "            \"content\": f\"\"\"Tell me about the company and the industry.\"\"\"\n",
    "        }\n",
    "    ]"
   ]
  },
  {
   "cell_type": "code",
   "execution_count": 6,
   "metadata": {},
   "outputs": [],
   "source": [
    "response = model.generate_text(\"who is the president of the united states?\")"
   ]
  },
  {
   "cell_type": "code",
   "execution_count": null,
   "metadata": {},
   "outputs": [],
   "source": [
    "response"
   ]
  },
  {
   "cell_type": "code",
   "execution_count": null,
   "metadata": {},
   "outputs": [],
   "source": [
    "generated_response = await model.achat_stream(messages=messages)\n",
    "\n",
    "async for chunk in generated_response:\n",
    "    if chunk['choices']:\n",
    "        print(chunk['choices'][0]['delta'].get('content', ''), end='', flush=True)"
   ]
  },
  {
   "cell_type": "code",
   "execution_count": 10,
   "metadata": {},
   "outputs": [],
   "source": [
    "from openai import AsyncOpenAI\n",
    "\n",
    "openai_key = os.getenv(\"OPENAI_API_KEY\")\n",
    "\n",
    "openai_client = AsyncOpenAI(api_key=openai_key)\n",
    "from datetime import datetime"
   ]
  },
  {
   "cell_type": "markdown",
   "metadata": {},
   "source": [
    "async Chat Streaming openai"
   ]
  },
  {
   "cell_type": "code",
   "execution_count": 75,
   "metadata": {},
   "outputs": [],
   "source": [
    "response = await openai_client.chat.completions.create(\n",
    "    model=\"gpt-4o-mini\",\n",
    "    messages=[\n",
    "        {\n",
    "            \"role\": \"system\",\n",
    "            \"content\": f\"You are researching IBM, a company in the TECHNOLOGY industry.\"\n",
    "        },\n",
    "        {\n",
    "            \"role\": \"user\",\n",
    "            \"content\": f\"\"\"Researching IBM on {datetime.now().strftime(\"%B %d, %Y\")}.\"\"\"\n",
    "        }\n",
    "    ],\n",
    "    temperature=0,\n",
    "    max_tokens=4096,\n",
    "    stream=True\n",
    ")"
   ]
  },
  {
   "cell_type": "code",
   "execution_count": 66,
   "metadata": {},
   "outputs": [],
   "source": [
    "queries = []\n",
    "current_query = \"\"\n",
    "current_query_number = 1\n",
    "\n",
    "async for chunk in response:\n",
    "    # Check for completion\n",
    "    if chunk.choices[0].finish_reason == \"stop\":\n",
    "        break\n",
    "    \n",
    "    # Extract content from the chunk\n",
    "    content = chunk.choices[0].delta.content    \n",
    "    if content:\n",
    "        current_query += content"
   ]
  },
  {
   "cell_type": "code",
   "execution_count": null,
   "metadata": {},
   "outputs": [],
   "source": [
    "current_query"
   ]
  },
  {
   "cell_type": "markdown",
   "metadata": {},
   "source": [
    "async Chat completions (Non-streaming) openai"
   ]
  },
  {
   "cell_type": "code",
   "execution_count": 79,
   "metadata": {},
   "outputs": [],
   "source": [
    "response = await openai_client.chat.completions.create(\n",
    "    model=\"gpt-4o-mini\",\n",
    "    messages=[\n",
    "        {\n",
    "            \"role\": \"system\",\n",
    "            \"content\": f\"You are researching IBM, a company in the TECHNOLOGY industry.\"\n",
    "        },\n",
    "        {\n",
    "            \"role\": \"user\",\n",
    "            \"content\": f\"\"\"Researching IBM on {datetime.now().strftime(\"%B %d, %Y\")}.\"\"\"\n",
    "        }\n",
    "    ],\n",
    ")"
   ]
  },
  {
   "cell_type": "code",
   "execution_count": null,
   "metadata": {},
   "outputs": [],
   "source": [
    "initial_report = response.choices[0].message.content.strip()\n",
    "initial_report"
   ]
  },
  {
   "cell_type": "markdown",
   "metadata": {},
   "source": [
    "async Chat streaming IBM"
   ]
  },
  {
   "cell_type": "code",
   "execution_count": 11,
   "metadata": {},
   "outputs": [],
   "source": [
    "response_wx = await model.achat_stream(\n",
    "    messages=[\n",
    "        {\n",
    "            \"role\": \"system\",\n",
    "            \"content\": f\"You are researching IBM, a company in the TECHNOLOGY industry.\"\n",
    "        },\n",
    "        {\n",
    "            \"role\": \"user\",\n",
    "            \"content\": f\"\"\"Researching IBM on {datetime.now().strftime(\"%B %d, %Y\")}.\"\"\"\n",
    "        }\n",
    "    ],\n",
    ")"
   ]
  },
  {
   "cell_type": "code",
   "execution_count": 12,
   "metadata": {},
   "outputs": [],
   "source": [
    "queries = []\n",
    "current_query = \"\"\n",
    "current_query_number = 1\n",
    "\n",
    "async for chunk in response_wx:\n",
    "    # Check for completion\n",
    "    if chunk.get('choices', [{}])[0].get('finish_reason') == \"stop\":\n",
    "        break\n",
    "    \n",
    "    # Extract content from the chunk\n",
    "    content = chunk.get('choices', [{}])[0].get('delta', {}).get('content', '')\n",
    "    \n",
    "    if content:\n",
    "        current_query += content"
   ]
  },
  {
   "cell_type": "code",
   "execution_count": null,
   "metadata": {},
   "outputs": [],
   "source": [
    "current_query"
   ]
  },
  {
   "cell_type": "markdown",
   "metadata": {},
   "source": [
    "async Chat completions (Non-streaming) IBM"
   ]
  },
  {
   "cell_type": "code",
   "execution_count": 14,
   "metadata": {},
   "outputs": [],
   "source": [
    "response_wx = await model.achat(\n",
    "    messages=[\n",
    "        {\n",
    "            \"role\": \"system\",\n",
    "            \"content\": f\"You are researching IBM, a company in the TECHNOLOGY industry.\"\n",
    "        },\n",
    "        {\n",
    "            \"role\": \"user\",\n",
    "            \"content\": f\"\"\"Researching IBM on {datetime.now().strftime(\"%B %d, %Y\")}.\"\"\"\n",
    "        }\n",
    "    ],\n",
    ")"
   ]
  },
  {
   "cell_type": "code",
   "execution_count": null,
   "metadata": {},
   "outputs": [],
   "source": [
    "response_wx"
   ]
  },
  {
   "cell_type": "code",
   "execution_count": null,
   "metadata": {},
   "outputs": [],
   "source": [
    "initial_report = response_wx['choices'][0]['message']['content'].strip()\n",
    "initial_report\n"
   ]
  },
  {
   "cell_type": "markdown",
   "metadata": {},
   "source": [
    "Watsonx text generation LLM"
   ]
  },
  {
   "cell_type": "code",
   "execution_count": null,
   "metadata": {},
   "outputs": [],
   "source": [
    "response = model.generate_text(\"Analyze the following documents and extract key information. Provide only the briefing, no explanations or commentary:\")\n",
    "\n",
    "response"
   ]
  },
  {
   "cell_type": "code",
   "execution_count": 18,
   "metadata": {},
   "outputs": [],
   "source": [
    "content = response.strip()"
   ]
  },
  {
   "cell_type": "code",
   "execution_count": null,
   "metadata": {},
   "outputs": [],
   "source": [
    "content"
   ]
  }
 ],
 "metadata": {
  "kernelspec": {
   "display_name": "venv",
   "language": "python",
   "name": "python3"
  },
  "language_info": {
   "codemirror_mode": {
    "name": "ipython",
    "version": 3
   },
   "file_extension": ".py",
   "mimetype": "text/x-python",
   "name": "python",
   "nbconvert_exporter": "python",
   "pygments_lexer": "ipython3",
   "version": "3.11.11"
  }
 },
 "nbformat": 4,
 "nbformat_minor": 2
}
