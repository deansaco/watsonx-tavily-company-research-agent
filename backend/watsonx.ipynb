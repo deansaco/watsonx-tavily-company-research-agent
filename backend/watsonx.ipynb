{
 "cells": [
  {
   "cell_type": "code",
   "execution_count": 1,
   "metadata": {},
   "outputs": [
    {
     "name": "stdout",
     "output_type": "stream",
     "text": [
      "\n",
      "\u001b[1m[\u001b[0m\u001b[34;49mnotice\u001b[0m\u001b[1;39;49m]\u001b[0m\u001b[39;49m A new release of pip is available: \u001b[0m\u001b[31;49m24.3.1\u001b[0m\u001b[39;49m -> \u001b[0m\u001b[32;49m25.0.1\u001b[0m\n",
      "\u001b[1m[\u001b[0m\u001b[34;49mnotice\u001b[0m\u001b[1;39;49m]\u001b[0m\u001b[39;49m To update, run: \u001b[0m\u001b[32;49mpython3.11 -m pip install --upgrade pip\u001b[0m\n",
      "Note: you may need to restart the kernel to use updated packages.\n"
     ]
    }
   ],
   "source": [
    "%pip install python-dotenv ibm-watsonx-ai --quiet"
   ]
  },
  {
   "cell_type": "code",
   "execution_count": 2,
   "metadata": {},
   "outputs": [
    {
     "data": {
      "text/plain": [
       "True"
      ]
     },
     "execution_count": 2,
     "metadata": {},
     "output_type": "execute_result"
    }
   ],
   "source": [
    "from dotenv import load_dotenv\n",
    "\n",
    "load_dotenv()"
   ]
  },
  {
   "cell_type": "code",
   "execution_count": 4,
   "metadata": {},
   "outputs": [],
   "source": [
    "from ibm_watsonx_ai import APIClient, Credentials\n",
    "from ibm_watsonx_ai.foundation_models import ModelInference\n",
    "import os\n",
    "credentials = Credentials(\n",
    "    url=os.getenv(\"WATSONX_URL\"),\n",
    "    api_key=os.getenv(\"WATSONX_API_KEY\"),\n",
    ")\n",
    "\n",
    "client = APIClient(credentials)"
   ]
  },
  {
   "cell_type": "code",
   "execution_count": 45,
   "metadata": {},
   "outputs": [],
   "source": [
    "model = ModelInference(\n",
    "  model_id=\"ibm/granite-3-8b-instruct\",\n",
    "  api_client=client,\n",
    "  project_id=os.getenv(\"WATSONX_PROJECT_ID\"),\n",
    "  params = {\n",
    "      \"max_new_tokens\": 1000\n",
    "  }\n",
    ")"
   ]
  },
  {
   "cell_type": "code",
   "execution_count": 55,
   "metadata": {},
   "outputs": [],
   "source": [
    "messages=[\n",
    "        {\n",
    "            \"role\": \"system\",\n",
    "            \"content\": f\"You are researching IBM, a company in the TECHNOLOGY industry.\"\n",
    "        },\n",
    "        {\n",
    "            \"role\": \"user\",\n",
    "            \"content\": f\"\"\"Tell me about the company and the industry.\"\"\"\n",
    "        }\n",
    "    ]"
   ]
  },
  {
   "cell_type": "code",
   "execution_count": 57,
   "metadata": {},
   "outputs": [],
   "source": [
    "response = model.generate_text(\"who is the president of the united states?\")"
   ]
  },
  {
   "cell_type": "code",
   "execution_count": 58,
   "metadata": {},
   "outputs": [
    {
     "data": {
      "text/plain": [
       "'\\n\\nThe current President of the United States is Joe Biden. He assumed office on January 20, 2021.'"
      ]
     },
     "execution_count": 58,
     "metadata": {},
     "output_type": "execute_result"
    }
   ],
   "source": [
    "response"
   ]
  },
  {
   "cell_type": "code",
   "execution_count": null,
   "metadata": {},
   "outputs": [],
   "source": [
    "generated_response = await model.achat_stream(messages=messages)\n",
    "\n",
    "async for chunk in generated_response:\n",
    "    if chunk['choices']:\n",
    "        print(chunk['choices'][0]['delta'].get('content', ''), end='', flush=True)"
   ]
  },
  {
   "cell_type": "code",
   "execution_count": 59,
   "metadata": {},
   "outputs": [],
   "source": [
    "from openai import AsyncOpenAI\n",
    "\n",
    "openai_key = os.getenv(\"OPENAI_API_KEY\")\n",
    "\n",
    "openai_client = AsyncOpenAI(api_key=openai_key)\n",
    "from datetime import datetime"
   ]
  },
  {
   "cell_type": "markdown",
   "metadata": {},
   "source": [
    "async Chat Streaming openai"
   ]
  },
  {
   "cell_type": "code",
   "execution_count": 75,
   "metadata": {},
   "outputs": [],
   "source": [
    "response = await openai_client.chat.completions.create(\n",
    "    model=\"gpt-4o-mini\",\n",
    "    messages=[\n",
    "        {\n",
    "            \"role\": \"system\",\n",
    "            \"content\": f\"You are researching IBM, a company in the TECHNOLOGY industry.\"\n",
    "        },\n",
    "        {\n",
    "            \"role\": \"user\",\n",
    "            \"content\": f\"\"\"Researching IBM on {datetime.now().strftime(\"%B %d, %Y\")}.\"\"\"\n",
    "        }\n",
    "    ],\n",
    "    temperature=0,\n",
    "    max_tokens=4096,\n",
    "    stream=True\n",
    ")"
   ]
  },
  {
   "cell_type": "code",
   "execution_count": 66,
   "metadata": {},
   "outputs": [],
   "source": [
    "queries = []\n",
    "current_query = \"\"\n",
    "current_query_number = 1\n",
    "\n",
    "async for chunk in response:\n",
    "    # Check for completion\n",
    "    if chunk.choices[0].finish_reason == \"stop\":\n",
    "        break\n",
    "    \n",
    "    # Extract content from the chunk\n",
    "    content = chunk.choices[0].delta.content    \n",
    "    if content:\n",
    "        current_query += content"
   ]
  },
  {
   "cell_type": "code",
   "execution_count": 68,
   "metadata": {},
   "outputs": [
    {
     "data": {
      "text/plain": [
       "\"As of my last update in October 2023, I can't provide real-time data or updates beyond that date. However, I can offer insights into IBM's historical context, business strategies, and areas of focus up to 2023, which may help you understand the company's trajectory and potential developments by March 2025.\\n\\nIBM has been focusing on several key areas:\\n\\n1. **Cloud Computing**: IBM has been investing heavily in its cloud services, particularly with IBM Cloud and its acquisition of Red Hat. The company aims to provide hybrid cloud solutions that allow businesses to operate across multiple environments.\\n\\n2. **Artificial Intelligence**: IBM's Watson has been a significant part of its AI strategy, with applications in various industries, including healthcare, finance, and customer service. The company has been working on enhancing AI capabilities and integrating them into its cloud offerings.\\n\\n3. **Quantum Computing**: IBM has been a leader in quantum computing research and development. The IBM Quantum Experience allows researchers and developers to experiment with quantum algorithms, and the company has been working on making quantum computing more accessible.\\n\\n4. **Sustainability and ESG Initiatives**: IBM has been focusing on sustainability, aiming to reduce its carbon footprint and promote environmentally friendly practices. The company has set goals for achieving net-zero greenhouse gas emissions.\\n\\n5. **Security Solutions**: With the increasing importance of cybersecurity, IBM has been enhancing its security offerings, including IBM Security QRadar and IBM X-Force, to help organizations protect against cyber threats.\\n\\n6. **Industry-Specific Solutions**: IBM has been tailoring its solutions for specific industries, such as healthcare, finance, and supply chain, to address unique challenges and opportunities.\\n\\nFor the most current information about IBM as of March 22, 2025, I recommend checking the latest news articles, press releases, and financial reports from IBM's official website or reputable financial news sources.\""
      ]
     },
     "execution_count": 68,
     "metadata": {},
     "output_type": "execute_result"
    }
   ],
   "source": [
    "current_query"
   ]
  },
  {
   "cell_type": "markdown",
   "metadata": {},
   "source": [
    "async Chat completions (Non-streaming) openai"
   ]
  },
  {
   "cell_type": "code",
   "execution_count": 79,
   "metadata": {},
   "outputs": [],
   "source": [
    "response = await openai_client.chat.completions.create(\n",
    "    model=\"gpt-4o-mini\",\n",
    "    messages=[\n",
    "        {\n",
    "            \"role\": \"system\",\n",
    "            \"content\": f\"You are researching IBM, a company in the TECHNOLOGY industry.\"\n",
    "        },\n",
    "        {\n",
    "            \"role\": \"user\",\n",
    "            \"content\": f\"\"\"Researching IBM on {datetime.now().strftime(\"%B %d, %Y\")}.\"\"\"\n",
    "        }\n",
    "    ],\n",
    ")"
   ]
  },
  {
   "cell_type": "code",
   "execution_count": 80,
   "metadata": {},
   "outputs": [
    {
     "data": {
      "text/plain": [
       "\"As of my last update in October 2023, I cannot provide real-time or future information about IBM or its developments beyond that date. However, I can offer insights into the company’s historical context, trends, and potential areas of focus based on prior patterns. \\n\\n1. **Cloud Computing**: IBM has been heavily investing in its cloud computing capabilities, particularly with IBM Cloud. The company may continue to expand its hybrid cloud solutions, competing with major players such as Amazon Web Services and Microsoft Azure.\\n\\n2. **Artificial Intelligence**: IBM's Watson has been a significant initiative in AI. The company has likely continued to develop AI applications across different industries, emphasizing ethical AI and responsible use.\\n\\n3. **Quantum Computing**: IBM has been a leader in quantum computing. They’ve rolled out the IBM Quantum Network, partnering with various organizations and universities. By 2025, they may have made significant advancements in quantum technologies, possibly releasing more powerful quantum systems.\\n\\n4. **Sustainability Initiatives**: Increasing focus on sustainability and emissions reduction may lead IBM to enhance its product offerings with more environmentally friendly technologies and practices.\\n\\n5. **Acquisitions and Partnerships**: IBM may continue its strategy of acquiring companies to bolster its technological capabilities, especially in areas like AI, cloud computing, and cybersecurity.\\n\\n6. **Cybersecurity**: With ongoing threats to digital security, IBM has been enhancing its cybersecurity services. This trend is likely to persist, leading to more innovative security solutions.\\n\\nFor specific updates on IBM as of March 22, 2025, I recommend checking the latest articles, press releases, and quarterly earnings reports from the company, along with news from reliable financial and technology news sources.\""
      ]
     },
     "execution_count": 80,
     "metadata": {},
     "output_type": "execute_result"
    }
   ],
   "source": [
    "initial_report = response.choices[0].message.content.strip()\n",
    "initial_report"
   ]
  },
  {
   "cell_type": "markdown",
   "metadata": {},
   "source": [
    "async Chat streaming IBM"
   ]
  },
  {
   "cell_type": "code",
   "execution_count": 81,
   "metadata": {},
   "outputs": [],
   "source": [
    "response_wx = await model.achat_stream(\n",
    "    messages=[\n",
    "        {\n",
    "            \"role\": \"system\",\n",
    "            \"content\": f\"You are researching IBM, a company in the TECHNOLOGY industry.\"\n",
    "        },\n",
    "        {\n",
    "            \"role\": \"user\",\n",
    "            \"content\": f\"\"\"Researching IBM on {datetime.now().strftime(\"%B %d, %Y\")}.\"\"\"\n",
    "        }\n",
    "    ],\n",
    ")"
   ]
  },
  {
   "cell_type": "code",
   "execution_count": 82,
   "metadata": {},
   "outputs": [
    {
     "name": "stderr",
     "output_type": "stream",
     "text": [
      "/opt/homebrew/lib/python3.11/site-packages/ibm_watsonx_ai/foundation_models/inference/base_model_inference.py:1118: UserWarning: Parameters [max_new_tokens] is/are not recognized and will be ignored.\n",
      "  warn(invalid_params_warning)\n"
     ]
    }
   ],
   "source": [
    "queries = []\n",
    "current_query = \"\"\n",
    "current_query_number = 1\n",
    "\n",
    "async for chunk in response_wx:\n",
    "    # Check for completion\n",
    "    if chunk.get('choices', [{}])[0].get('finish_reason') == \"stop\":\n",
    "        break\n",
    "    \n",
    "    # Extract content from the chunk\n",
    "    content = chunk.get('choices', [{}])[0].get('delta', {}).get('content', '')\n",
    "    \n",
    "    if content:\n",
    "        current_query += content"
   ]
  },
  {
   "cell_type": "code",
   "execution_count": 83,
   "metadata": {},
   "outputs": [
    {
     "data": {
      "text/plain": [
       "\"As of March 22, 2025, IBM, an American multinational technology and consulting corporation, continues to be a leading player in the technology industry. Founded in 1911 as the Computing-Tabulating-Recording Company (CTR), it was renamed to International Business Machines (IBM) in 1924. IBM's headquarters are located in Armonk, New York.\\n\\nIn recent years, IBM has been undergoing a significant transformation, divesting from its commodity hardware businesses and focusing on higher margin segments such as artificial intelligence, cloud computing, and consulting services.\\n\\nOne of their most notable initiatives is Watson, an AI system capable of answering questions posed in natural language, developed with the help of machine learning, data mining, and predictive analytics. Watson has been applied to various fields including healthcare, education, and finance to assist with decision-making processes.\\n\\nIBM also operates a global cloud business which provides infrastructure, platform, and software services. They have been emphasizing the IBM Cloud for its ability to manage and analyze massive volumes of data, making it a competitive platform in the cloud computing market.\\n\\nIn addition, IBM provides a wide range of consulting services, leveraging their expertise in hybrid cloud, AI, security, and blockchain technologies. They assist businesses with their digital transformations, aiming to help clients adapt to a new era of hybrid cloud and AI.\\n\\nIn terms of sustainability, IBM has pledged to become carbon neutral by 2030 and to remove 55 million metric tons of greenhouse gases from its supply chain by 2025.\\n\\nAs a publicly traded company, IBM's stock (IBM) is listed on the New York Stock Exchange. Its financial performance in 2021 and 2022 was marked by steady revenue growth, with a focus on derecognizing low-margin businesses and investing in high-growth segments.\\n\\nIBM's market share, while having experienced some decline in certain areas like hardware, has remained strong in enterprise-level AI and cloud services, indicating its continued relevance in the rapidly evolving tech landscape. Despite the challenges posed by increased competition, particularly from tech giants like Amazon, Google, and Microsoft, IBM has managed to carve out a niche in the upper echelons of the technology services industry.\\n\\nThis information is based on the known trends and data available up to March 22, 2025, and could change based on subsequent events or updates.\""
      ]
     },
     "execution_count": 83,
     "metadata": {},
     "output_type": "execute_result"
    }
   ],
   "source": [
    "current_query"
   ]
  },
  {
   "cell_type": "markdown",
   "metadata": {},
   "source": [
    "async Chat completions (Non-streaming) IBM"
   ]
  },
  {
   "cell_type": "code",
   "execution_count": 84,
   "metadata": {},
   "outputs": [
    {
     "name": "stderr",
     "output_type": "stream",
     "text": [
      "/opt/homebrew/lib/python3.11/site-packages/ibm_watsonx_ai/foundation_models/inference/base_model_inference.py:1118: UserWarning: Parameters [max_new_tokens] is/are not recognized and will be ignored.\n",
      "  warn(invalid_params_warning)\n"
     ]
    }
   ],
   "source": [
    "response_wx = await model.achat(\n",
    "    messages=[\n",
    "        {\n",
    "            \"role\": \"system\",\n",
    "            \"content\": f\"You are researching IBM, a company in the TECHNOLOGY industry.\"\n",
    "        },\n",
    "        {\n",
    "            \"role\": \"user\",\n",
    "            \"content\": f\"\"\"Researching IBM on {datetime.now().strftime(\"%B %d, %Y\")}.\"\"\"\n",
    "        }\n",
    "    ],\n",
    ")"
   ]
  },
  {
   "cell_type": "code",
   "execution_count": 86,
   "metadata": {},
   "outputs": [
    {
     "data": {
      "text/plain": [
       "{'id': 'chatcmpl-cbd8443a88a28747440ff8f28257e5ff',\n",
       " 'model_id': 'ibm/granite-3-8b-instruct',\n",
       " 'model': 'ibm/granite-3-8b-instruct',\n",
       " 'choices': [{'index': 0,\n",
       "   'message': {'role': 'assistant',\n",
       "    'content': \"IBM, or International Business Machines Corporation, is one of the largest technology companies globally. It was founded in 1911 and headquartered in Armonk, New York, USA. IBM has operations in over 170 countries and employs approximately 350,000 people worldwide.\\n\\nAs of March 22, 2025, IBM's primary focus has shifted towards hybrid cloud platforms and AI, dotting the 'I' and 'B' in its name. IBM's hybrid cloud platform enables clients to move, build, and manage applications across any cloud, while its AI solutions help businesses scale with confidence.\\n\\nIn recent years, IBM has acquired several AI and hybrid cloud-focused companies to strengthen its positions in these areas. Notable among these acquisitions are Red Hat (2018), AppVoltair (2021), and Turbonomic (2022). The Red Hat acquisition was a significant one, cementing IBM's position in the cloud computing market.\\n\\nIBM Research, the company's research division, is recognized globally for its contributions in areas like artificial intelligence, hybrid cloud, quantum computing, blockchain, IoT, and various industrial technologies.\\n\\nIn terms of market performance, as of the close of the trading day on March 22, 2025, IBM's stock was trading at around $150 per share, down marginally from its 52-week high of $155. Back in 2000, at the peak of the dot-com bubble, IBM's stock once traded above $100.\\n\\nIBM's commitment to sustainability is also noteworthy. The company aims to be carbon neutral by 2030 and has set other ambitious sustainability goals.\\n\\nThis analysis is based on publicly available data and trends as of March 22, 2025. Actual figures and updates may vary.\"},\n",
       "   'finish_reason': 'stop'}],\n",
       " 'created': 1742672806,\n",
       " 'model_version': '1.1.0',\n",
       " 'created_at': '2025-03-22T19:46:52.340Z',\n",
       " 'usage': {'completion_tokens': 432, 'prompt_tokens': 45, 'total_tokens': 477},\n",
       " 'system': {'warnings': [{'message': \"The value of 'max_tokens' for this model was set to value 1024\",\n",
       "    'id': 'unspecified_max_token',\n",
       "    'additional_properties': {'limit': 0,\n",
       "     'new_value': 1024,\n",
       "     'parameter': 'max_tokens',\n",
       "     'value': 0}}]}}"
      ]
     },
     "execution_count": 86,
     "metadata": {},
     "output_type": "execute_result"
    }
   ],
   "source": [
    "response_wx"
   ]
  },
  {
   "cell_type": "code",
   "execution_count": 87,
   "metadata": {},
   "outputs": [
    {
     "data": {
      "text/plain": [
       "\"IBM, or International Business Machines Corporation, is one of the largest technology companies globally. It was founded in 1911 and headquartered in Armonk, New York, USA. IBM has operations in over 170 countries and employs approximately 350,000 people worldwide.\\n\\nAs of March 22, 2025, IBM's primary focus has shifted towards hybrid cloud platforms and AI, dotting the 'I' and 'B' in its name. IBM's hybrid cloud platform enables clients to move, build, and manage applications across any cloud, while its AI solutions help businesses scale with confidence.\\n\\nIn recent years, IBM has acquired several AI and hybrid cloud-focused companies to strengthen its positions in these areas. Notable among these acquisitions are Red Hat (2018), AppVoltair (2021), and Turbonomic (2022). The Red Hat acquisition was a significant one, cementing IBM's position in the cloud computing market.\\n\\nIBM Research, the company's research division, is recognized globally for its contributions in areas like artificial intelligence, hybrid cloud, quantum computing, blockchain, IoT, and various industrial technologies.\\n\\nIn terms of market performance, as of the close of the trading day on March 22, 2025, IBM's stock was trading at around $150 per share, down marginally from its 52-week high of $155. Back in 2000, at the peak of the dot-com bubble, IBM's stock once traded above $100.\\n\\nIBM's commitment to sustainability is also noteworthy. The company aims to be carbon neutral by 2030 and has set other ambitious sustainability goals.\\n\\nThis analysis is based on publicly available data and trends as of March 22, 2025. Actual figures and updates may vary.\""
      ]
     },
     "execution_count": 87,
     "metadata": {},
     "output_type": "execute_result"
    }
   ],
   "source": [
    "initial_report = response_wx['choices'][0]['message']['content'].strip()\n",
    "initial_report\n"
   ]
  }
 ],
 "metadata": {
  "kernelspec": {
   "display_name": "Python 3",
   "language": "python",
   "name": "python3"
  },
  "language_info": {
   "codemirror_mode": {
    "name": "ipython",
    "version": 3
   },
   "file_extension": ".py",
   "mimetype": "text/x-python",
   "name": "python",
   "nbconvert_exporter": "python",
   "pygments_lexer": "ipython3",
   "version": "3.11.11"
  }
 },
 "nbformat": 4,
 "nbformat_minor": 2
}
